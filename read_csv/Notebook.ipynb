{
 "cells": [
  {
   "cell_type": "code",
   "execution_count": 1,
   "metadata": {},
   "outputs": [
    {
     "name": "stdout",
     "output_type": "stream",
     "text": [
      "Collecting pandas\n",
      "  Downloading pandas-1.4.2-cp38-cp38-manylinux_2_17_x86_64.manylinux2014_x86_64.whl (11.7 MB)\n",
      "\u001b[2K     \u001b[90m━━━━━━━━━━━━━━━━━━━━━━━━━━━━━━━━━━━━━━━━\u001b[0m \u001b[32m11.7/11.7 MB\u001b[0m \u001b[31m6.3 MB/s\u001b[0m eta \u001b[36m0:00:00\u001b[0m00:01\u001b[0m00:01\u001b[0m\n",
      "\u001b[?25hRequirement already satisfied: python-dateutil>=2.8.1 in /usr/local/lib/python3.8/dist-packages (from pandas) (2.8.2)\n",
      "Requirement already satisfied: numpy>=1.18.5 in /usr/local/lib/python3.8/dist-packages (from pandas) (1.22.1)\n",
      "Collecting pytz>=2020.1\n",
      "  Downloading pytz-2022.1-py2.py3-none-any.whl (503 kB)\n",
      "\u001b[2K     \u001b[90m━━━━━━━━━━━━━━━━━━━━━━━━━━━━━━━━━━━━━━━\u001b[0m \u001b[32m503.5/503.5 kB\u001b[0m \u001b[31m6.5 MB/s\u001b[0m eta \u001b[36m0:00:00\u001b[0ma \u001b[36m0:00:01\u001b[0m\n",
      "\u001b[?25hRequirement already satisfied: six>=1.5 in /usr/local/lib/python3.8/dist-packages (from python-dateutil>=2.8.1->pandas) (1.16.0)\n",
      "Installing collected packages: pytz, pandas\n",
      "Successfully installed pandas-1.4.2 pytz-2022.1\n",
      "\u001b[33mWARNING: Running pip as the 'root' user can result in broken permissions and conflicting behaviour with the system package manager. It is recommended to use a virtual environment instead: https://pip.pypa.io/warnings/venv\u001b[0m\u001b[33m\n",
      "\u001b[0m"
     ]
    }
   ],
   "source": [
    "!pip install pandas"
   ]
  },
  {
   "cell_type": "code",
   "execution_count": 2,
   "metadata": {},
   "outputs": [],
   "source": [
    "import pandas as pd\n",
    "import os"
   ]
  },
  {
   "cell_type": "code",
   "execution_count": 3,
   "metadata": {},
   "outputs": [
    {
     "name": "stdout",
     "output_type": "stream",
     "text": [
      "/tf/notebooks/read_csv\n"
     ]
    }
   ],
   "source": [
    "WORKING_DIRECTORY = os.getcwd()\n",
    "print(WORKING_DIRECTORY)"
   ]
  },
  {
   "cell_type": "code",
   "execution_count": 4,
   "metadata": {},
   "outputs": [
    {
     "data": {
      "text/plain": [
       "['.ipynb_checkpoints',\n",
       " 'Notebook.ipynb',\n",
       " 'Readme.md',\n",
       " 'dummy_data.csv',\n",
       " 'dummy_data_pipe.csv']"
      ]
     },
     "execution_count": 4,
     "metadata": {},
     "output_type": "execute_result"
    }
   ],
   "source": [
    "os.listdir(WORKING_DIRECTORY)"
   ]
  },
  {
   "cell_type": "code",
   "execution_count": 5,
   "metadata": {},
   "outputs": [],
   "source": [
    "DATA_FILE = f'{WORKING_DIRECTORY}/dummy_data.csv'"
   ]
  },
  {
   "cell_type": "code",
   "execution_count": 6,
   "metadata": {},
   "outputs": [],
   "source": [
    "df = pd.read_csv(DATA_FILE)"
   ]
  },
  {
   "cell_type": "code",
   "execution_count": 7,
   "metadata": {},
   "outputs": [
    {
     "data": {
      "text/html": [
       "<div>\n",
       "<style scoped>\n",
       "    .dataframe tbody tr th:only-of-type {\n",
       "        vertical-align: middle;\n",
       "    }\n",
       "\n",
       "    .dataframe tbody tr th {\n",
       "        vertical-align: top;\n",
       "    }\n",
       "\n",
       "    .dataframe thead th {\n",
       "        text-align: right;\n",
       "    }\n",
       "</style>\n",
       "<table border=\"1\" class=\"dataframe\">\n",
       "  <thead>\n",
       "    <tr style=\"text-align: right;\">\n",
       "      <th></th>\n",
       "      <th>cust_id</th>\n",
       "      <th>name</th>\n",
       "      <th>age</th>\n",
       "      <th>address</th>\n",
       "      <th>active</th>\n",
       "      <th>job</th>\n",
       "    </tr>\n",
       "  </thead>\n",
       "  <tbody>\n",
       "    <tr>\n",
       "      <th>0</th>\n",
       "      <td>FDFJ1245</td>\n",
       "      <td>Daniel Hickman</td>\n",
       "      <td>46</td>\n",
       "      <td>22837 Ruiz Circle Suite 778\\nDawsonview, ME 95272</td>\n",
       "      <td>False</td>\n",
       "      <td>Patent attorney</td>\n",
       "    </tr>\n",
       "    <tr>\n",
       "      <th>1</th>\n",
       "      <td>GFHS5632</td>\n",
       "      <td>Abigail Sims</td>\n",
       "      <td>55</td>\n",
       "      <td>Unit 9663 Box 9066\\nDPO AA 29315</td>\n",
       "      <td>True</td>\n",
       "      <td>Therapist, music</td>\n",
       "    </tr>\n",
       "    <tr>\n",
       "      <th>2</th>\n",
       "      <td>LHJH6732</td>\n",
       "      <td>Bradley Henderson</td>\n",
       "      <td>35</td>\n",
       "      <td>44072 Sharp Station Suite 337\\nSouth Madisonsi...</td>\n",
       "      <td>True</td>\n",
       "      <td>Heritage manager</td>\n",
       "    </tr>\n",
       "    <tr>\n",
       "      <th>3</th>\n",
       "      <td>ISGK9792</td>\n",
       "      <td>Alexander Wilson</td>\n",
       "      <td>54</td>\n",
       "      <td>79115 Jose Way\\nAndersonstad, KS 48189</td>\n",
       "      <td>False</td>\n",
       "      <td>Higher education careers adviser</td>\n",
       "    </tr>\n",
       "    <tr>\n",
       "      <th>4</th>\n",
       "      <td>DARA2514</td>\n",
       "      <td>Erik Long</td>\n",
       "      <td>25</td>\n",
       "      <td>901 Reed Parkway\\nMargaretstad, DC 21210</td>\n",
       "      <td>True</td>\n",
       "      <td>Financial controller</td>\n",
       "    </tr>\n",
       "  </tbody>\n",
       "</table>\n",
       "</div>"
      ],
      "text/plain": [
       "    cust_id               name  age  \\\n",
       "0  FDFJ1245     Daniel Hickman   46   \n",
       "1  GFHS5632       Abigail Sims   55   \n",
       "2  LHJH6732  Bradley Henderson   35   \n",
       "3  ISGK9792   Alexander Wilson   54   \n",
       "4  DARA2514          Erik Long   25   \n",
       "\n",
       "                                             address  active  \\\n",
       "0  22837 Ruiz Circle Suite 778\\nDawsonview, ME 95272   False   \n",
       "1                   Unit 9663 Box 9066\\nDPO AA 29315    True   \n",
       "2  44072 Sharp Station Suite 337\\nSouth Madisonsi...    True   \n",
       "3             79115 Jose Way\\nAndersonstad, KS 48189   False   \n",
       "4           901 Reed Parkway\\nMargaretstad, DC 21210    True   \n",
       "\n",
       "                                job  \n",
       "0                   Patent attorney  \n",
       "1                  Therapist, music  \n",
       "2                  Heritage manager  \n",
       "3  Higher education careers adviser  \n",
       "4              Financial controller  "
      ]
     },
     "execution_count": 7,
     "metadata": {},
     "output_type": "execute_result"
    }
   ],
   "source": [
    "df.head()"
   ]
  },
  {
   "cell_type": "code",
   "execution_count": 8,
   "metadata": {},
   "outputs": [
    {
     "name": "stdout",
     "output_type": "stream",
     "text": [
      "<class 'pandas.core.frame.DataFrame'>\n",
      "RangeIndex: 10 entries, 0 to 9\n",
      "Data columns (total 6 columns):\n",
      " #   Column   Non-Null Count  Dtype \n",
      "---  ------   --------------  ----- \n",
      " 0   cust_id  10 non-null     object\n",
      " 1   name     10 non-null     object\n",
      " 2   age      10 non-null     int64 \n",
      " 3   address  10 non-null     object\n",
      " 4   active   10 non-null     bool  \n",
      " 5   job      10 non-null     object\n",
      "dtypes: bool(1), int64(1), object(4)\n",
      "memory usage: 538.0+ bytes\n"
     ]
    }
   ],
   "source": [
    "df.info()"
   ]
  },
  {
   "cell_type": "code",
   "execution_count": 9,
   "metadata": {},
   "outputs": [],
   "source": [
    "df = pd.read_csv(DATA_FILE, index_col='cust_id')"
   ]
  },
  {
   "cell_type": "code",
   "execution_count": 10,
   "metadata": {},
   "outputs": [
    {
     "data": {
      "text/html": [
       "<div>\n",
       "<style scoped>\n",
       "    .dataframe tbody tr th:only-of-type {\n",
       "        vertical-align: middle;\n",
       "    }\n",
       "\n",
       "    .dataframe tbody tr th {\n",
       "        vertical-align: top;\n",
       "    }\n",
       "\n",
       "    .dataframe thead th {\n",
       "        text-align: right;\n",
       "    }\n",
       "</style>\n",
       "<table border=\"1\" class=\"dataframe\">\n",
       "  <thead>\n",
       "    <tr style=\"text-align: right;\">\n",
       "      <th></th>\n",
       "      <th>name</th>\n",
       "      <th>age</th>\n",
       "      <th>address</th>\n",
       "      <th>active</th>\n",
       "      <th>job</th>\n",
       "    </tr>\n",
       "    <tr>\n",
       "      <th>cust_id</th>\n",
       "      <th></th>\n",
       "      <th></th>\n",
       "      <th></th>\n",
       "      <th></th>\n",
       "      <th></th>\n",
       "    </tr>\n",
       "  </thead>\n",
       "  <tbody>\n",
       "    <tr>\n",
       "      <th>FDFJ1245</th>\n",
       "      <td>Daniel Hickman</td>\n",
       "      <td>46</td>\n",
       "      <td>22837 Ruiz Circle Suite 778\\nDawsonview, ME 95272</td>\n",
       "      <td>False</td>\n",
       "      <td>Patent attorney</td>\n",
       "    </tr>\n",
       "    <tr>\n",
       "      <th>GFHS5632</th>\n",
       "      <td>Abigail Sims</td>\n",
       "      <td>55</td>\n",
       "      <td>Unit 9663 Box 9066\\nDPO AA 29315</td>\n",
       "      <td>True</td>\n",
       "      <td>Therapist, music</td>\n",
       "    </tr>\n",
       "    <tr>\n",
       "      <th>LHJH6732</th>\n",
       "      <td>Bradley Henderson</td>\n",
       "      <td>35</td>\n",
       "      <td>44072 Sharp Station Suite 337\\nSouth Madisonsi...</td>\n",
       "      <td>True</td>\n",
       "      <td>Heritage manager</td>\n",
       "    </tr>\n",
       "    <tr>\n",
       "      <th>ISGK9792</th>\n",
       "      <td>Alexander Wilson</td>\n",
       "      <td>54</td>\n",
       "      <td>79115 Jose Way\\nAndersonstad, KS 48189</td>\n",
       "      <td>False</td>\n",
       "      <td>Higher education careers adviser</td>\n",
       "    </tr>\n",
       "    <tr>\n",
       "      <th>DARA2514</th>\n",
       "      <td>Erik Long</td>\n",
       "      <td>25</td>\n",
       "      <td>901 Reed Parkway\\nMargaretstad, DC 21210</td>\n",
       "      <td>True</td>\n",
       "      <td>Financial controller</td>\n",
       "    </tr>\n",
       "  </tbody>\n",
       "</table>\n",
       "</div>"
      ],
      "text/plain": [
       "                       name  age  \\\n",
       "cust_id                            \n",
       "FDFJ1245     Daniel Hickman   46   \n",
       "GFHS5632       Abigail Sims   55   \n",
       "LHJH6732  Bradley Henderson   35   \n",
       "ISGK9792   Alexander Wilson   54   \n",
       "DARA2514          Erik Long   25   \n",
       "\n",
       "                                                    address  active  \\\n",
       "cust_id                                                               \n",
       "FDFJ1245  22837 Ruiz Circle Suite 778\\nDawsonview, ME 95272   False   \n",
       "GFHS5632                   Unit 9663 Box 9066\\nDPO AA 29315    True   \n",
       "LHJH6732  44072 Sharp Station Suite 337\\nSouth Madisonsi...    True   \n",
       "ISGK9792             79115 Jose Way\\nAndersonstad, KS 48189   False   \n",
       "DARA2514           901 Reed Parkway\\nMargaretstad, DC 21210    True   \n",
       "\n",
       "                                       job  \n",
       "cust_id                                     \n",
       "FDFJ1245                   Patent attorney  \n",
       "GFHS5632                  Therapist, music  \n",
       "LHJH6732                  Heritage manager  \n",
       "ISGK9792  Higher education careers adviser  \n",
       "DARA2514              Financial controller  "
      ]
     },
     "execution_count": 10,
     "metadata": {},
     "output_type": "execute_result"
    }
   ],
   "source": [
    "df.head()"
   ]
  },
  {
   "cell_type": "code",
   "execution_count": 11,
   "metadata": {},
   "outputs": [
    {
     "name": "stdout",
     "output_type": "stream",
     "text": [
      "<class 'pandas.core.frame.DataFrame'>\n",
      "Index: 10 entries, FDFJ1245 to JGHW6291\n",
      "Data columns (total 5 columns):\n",
      " #   Column   Non-Null Count  Dtype \n",
      "---  ------   --------------  ----- \n",
      " 0   name     10 non-null     object\n",
      " 1   age      10 non-null     int64 \n",
      " 2   address  10 non-null     object\n",
      " 3   active   10 non-null     bool  \n",
      " 4   job      10 non-null     object\n",
      "dtypes: bool(1), int64(1), object(3)\n",
      "memory usage: 410.0+ bytes\n"
     ]
    }
   ],
   "source": [
    "df.info()"
   ]
  },
  {
   "cell_type": "code",
   "execution_count": 12,
   "metadata": {},
   "outputs": [],
   "source": [
    "df = pd.read_csv(DATA_FILE, index_col='CustomerID',\n",
    "                 names=['CustomerID', 'Name', 'Age', 'Address', 'Active', 'JobTitle'],\n",
    "                 skiprows=1)"
   ]
  },
  {
   "cell_type": "code",
   "execution_count": 13,
   "metadata": {},
   "outputs": [
    {
     "data": {
      "text/html": [
       "<div>\n",
       "<style scoped>\n",
       "    .dataframe tbody tr th:only-of-type {\n",
       "        vertical-align: middle;\n",
       "    }\n",
       "\n",
       "    .dataframe tbody tr th {\n",
       "        vertical-align: top;\n",
       "    }\n",
       "\n",
       "    .dataframe thead th {\n",
       "        text-align: right;\n",
       "    }\n",
       "</style>\n",
       "<table border=\"1\" class=\"dataframe\">\n",
       "  <thead>\n",
       "    <tr style=\"text-align: right;\">\n",
       "      <th></th>\n",
       "      <th>Name</th>\n",
       "      <th>Age</th>\n",
       "      <th>Address</th>\n",
       "      <th>Active</th>\n",
       "      <th>JobTitle</th>\n",
       "    </tr>\n",
       "    <tr>\n",
       "      <th>CustomerID</th>\n",
       "      <th></th>\n",
       "      <th></th>\n",
       "      <th></th>\n",
       "      <th></th>\n",
       "      <th></th>\n",
       "    </tr>\n",
       "  </thead>\n",
       "  <tbody>\n",
       "    <tr>\n",
       "      <th>FDFJ1245</th>\n",
       "      <td>Daniel Hickman</td>\n",
       "      <td>46</td>\n",
       "      <td>22837 Ruiz Circle Suite 778\\nDawsonview, ME 95272</td>\n",
       "      <td>False</td>\n",
       "      <td>Patent attorney</td>\n",
       "    </tr>\n",
       "    <tr>\n",
       "      <th>GFHS5632</th>\n",
       "      <td>Abigail Sims</td>\n",
       "      <td>55</td>\n",
       "      <td>Unit 9663 Box 9066\\nDPO AA 29315</td>\n",
       "      <td>True</td>\n",
       "      <td>Therapist, music</td>\n",
       "    </tr>\n",
       "    <tr>\n",
       "      <th>LHJH6732</th>\n",
       "      <td>Bradley Henderson</td>\n",
       "      <td>35</td>\n",
       "      <td>44072 Sharp Station Suite 337\\nSouth Madisonsi...</td>\n",
       "      <td>True</td>\n",
       "      <td>Heritage manager</td>\n",
       "    </tr>\n",
       "    <tr>\n",
       "      <th>ISGK9792</th>\n",
       "      <td>Alexander Wilson</td>\n",
       "      <td>54</td>\n",
       "      <td>79115 Jose Way\\nAndersonstad, KS 48189</td>\n",
       "      <td>False</td>\n",
       "      <td>Higher education careers adviser</td>\n",
       "    </tr>\n",
       "    <tr>\n",
       "      <th>DARA2514</th>\n",
       "      <td>Erik Long</td>\n",
       "      <td>25</td>\n",
       "      <td>901 Reed Parkway\\nMargaretstad, DC 21210</td>\n",
       "      <td>True</td>\n",
       "      <td>Financial controller</td>\n",
       "    </tr>\n",
       "  </tbody>\n",
       "</table>\n",
       "</div>"
      ],
      "text/plain": [
       "                         Name  Age  \\\n",
       "CustomerID                           \n",
       "FDFJ1245       Daniel Hickman   46   \n",
       "GFHS5632         Abigail Sims   55   \n",
       "LHJH6732    Bradley Henderson   35   \n",
       "ISGK9792     Alexander Wilson   54   \n",
       "DARA2514            Erik Long   25   \n",
       "\n",
       "                                                      Address  Active  \\\n",
       "CustomerID                                                              \n",
       "FDFJ1245    22837 Ruiz Circle Suite 778\\nDawsonview, ME 95272   False   \n",
       "GFHS5632                     Unit 9663 Box 9066\\nDPO AA 29315    True   \n",
       "LHJH6732    44072 Sharp Station Suite 337\\nSouth Madisonsi...    True   \n",
       "ISGK9792               79115 Jose Way\\nAndersonstad, KS 48189   False   \n",
       "DARA2514             901 Reed Parkway\\nMargaretstad, DC 21210    True   \n",
       "\n",
       "                                    JobTitle  \n",
       "CustomerID                                    \n",
       "FDFJ1245                     Patent attorney  \n",
       "GFHS5632                    Therapist, music  \n",
       "LHJH6732                    Heritage manager  \n",
       "ISGK9792    Higher education careers adviser  \n",
       "DARA2514                Financial controller  "
      ]
     },
     "execution_count": 13,
     "metadata": {},
     "output_type": "execute_result"
    }
   ],
   "source": [
    "df.head()"
   ]
  },
  {
   "cell_type": "code",
   "execution_count": 14,
   "metadata": {},
   "outputs": [
    {
     "name": "stdout",
     "output_type": "stream",
     "text": [
      "<class 'pandas.core.frame.DataFrame'>\n",
      "Index: 10 entries, FDFJ1245 to JGHW6291\n",
      "Data columns (total 5 columns):\n",
      " #   Column    Non-Null Count  Dtype \n",
      "---  ------    --------------  ----- \n",
      " 0   Name      10 non-null     object\n",
      " 1   Age       10 non-null     int64 \n",
      " 2   Address   10 non-null     object\n",
      " 3   Active    10 non-null     bool  \n",
      " 4   JobTitle  10 non-null     object\n",
      "dtypes: bool(1), int64(1), object(3)\n",
      "memory usage: 410.0+ bytes\n"
     ]
    }
   ],
   "source": [
    "df.info()"
   ]
  },
  {
   "cell_type": "code",
   "execution_count": 15,
   "metadata": {},
   "outputs": [],
   "source": [
    "DATA_FILE = f'{WORKING_DIRECTORY}/dummy_data_pipe.csv'"
   ]
  },
  {
   "cell_type": "code",
   "execution_count": 16,
   "metadata": {},
   "outputs": [],
   "source": [
    "df = pd.read_csv(DATA_FILE, index_col='cust_id', sep='|')"
   ]
  },
  {
   "cell_type": "code",
   "execution_count": 17,
   "metadata": {},
   "outputs": [
    {
     "data": {
      "text/html": [
       "<div>\n",
       "<style scoped>\n",
       "    .dataframe tbody tr th:only-of-type {\n",
       "        vertical-align: middle;\n",
       "    }\n",
       "\n",
       "    .dataframe tbody tr th {\n",
       "        vertical-align: top;\n",
       "    }\n",
       "\n",
       "    .dataframe thead th {\n",
       "        text-align: right;\n",
       "    }\n",
       "</style>\n",
       "<table border=\"1\" class=\"dataframe\">\n",
       "  <thead>\n",
       "    <tr style=\"text-align: right;\">\n",
       "      <th></th>\n",
       "      <th>name</th>\n",
       "      <th>age</th>\n",
       "      <th>address</th>\n",
       "      <th>active</th>\n",
       "      <th>job</th>\n",
       "    </tr>\n",
       "    <tr>\n",
       "      <th>cust_id</th>\n",
       "      <th></th>\n",
       "      <th></th>\n",
       "      <th></th>\n",
       "      <th></th>\n",
       "      <th></th>\n",
       "    </tr>\n",
       "  </thead>\n",
       "  <tbody>\n",
       "    <tr>\n",
       "      <th>FDFJ1245</th>\n",
       "      <td>Daniel Hickman</td>\n",
       "      <td>46</td>\n",
       "      <td>22837 Ruiz Circle Suite 778\\nDawsonview, ME 95272</td>\n",
       "      <td>False</td>\n",
       "      <td>Patent attorney</td>\n",
       "    </tr>\n",
       "    <tr>\n",
       "      <th>GFHS5632</th>\n",
       "      <td>Abigail Sims</td>\n",
       "      <td>55</td>\n",
       "      <td>Unit 9663 Box 9066\\nDPO AA 29315</td>\n",
       "      <td>True</td>\n",
       "      <td>Therapist, music</td>\n",
       "    </tr>\n",
       "    <tr>\n",
       "      <th>LHJH6732</th>\n",
       "      <td>Bradley Henderson</td>\n",
       "      <td>35</td>\n",
       "      <td>44072 Sharp Station Suite 337\\nSouth Madisonsi...</td>\n",
       "      <td>True</td>\n",
       "      <td>Heritage manager</td>\n",
       "    </tr>\n",
       "    <tr>\n",
       "      <th>ISGK9792</th>\n",
       "      <td>Alexander Wilson</td>\n",
       "      <td>54</td>\n",
       "      <td>79115 Jose Way\\nAndersonstad, KS 48189</td>\n",
       "      <td>False</td>\n",
       "      <td>Higher education careers adviser</td>\n",
       "    </tr>\n",
       "    <tr>\n",
       "      <th>DARA2514</th>\n",
       "      <td>Erik Long</td>\n",
       "      <td>25</td>\n",
       "      <td>901 Reed Parkway\\nMargaretstad, DC 21210</td>\n",
       "      <td>True</td>\n",
       "      <td>Financial controller</td>\n",
       "    </tr>\n",
       "  </tbody>\n",
       "</table>\n",
       "</div>"
      ],
      "text/plain": [
       "                       name  age  \\\n",
       "cust_id                            \n",
       "FDFJ1245     Daniel Hickman   46   \n",
       "GFHS5632       Abigail Sims   55   \n",
       "LHJH6732  Bradley Henderson   35   \n",
       "ISGK9792   Alexander Wilson   54   \n",
       "DARA2514          Erik Long   25   \n",
       "\n",
       "                                                    address  active  \\\n",
       "cust_id                                                               \n",
       "FDFJ1245  22837 Ruiz Circle Suite 778\\nDawsonview, ME 95272   False   \n",
       "GFHS5632                   Unit 9663 Box 9066\\nDPO AA 29315    True   \n",
       "LHJH6732  44072 Sharp Station Suite 337\\nSouth Madisonsi...    True   \n",
       "ISGK9792             79115 Jose Way\\nAndersonstad, KS 48189   False   \n",
       "DARA2514           901 Reed Parkway\\nMargaretstad, DC 21210    True   \n",
       "\n",
       "                                       job  \n",
       "cust_id                                     \n",
       "FDFJ1245                   Patent attorney  \n",
       "GFHS5632                  Therapist, music  \n",
       "LHJH6732                  Heritage manager  \n",
       "ISGK9792  Higher education careers adviser  \n",
       "DARA2514              Financial controller  "
      ]
     },
     "execution_count": 17,
     "metadata": {},
     "output_type": "execute_result"
    }
   ],
   "source": [
    "df.head()"
   ]
  },
  {
   "cell_type": "code",
   "execution_count": 18,
   "metadata": {},
   "outputs": [
    {
     "name": "stdout",
     "output_type": "stream",
     "text": [
      "<class 'pandas.core.frame.DataFrame'>\n",
      "Index: 10 entries, FDFJ1245 to JGHW6291\n",
      "Data columns (total 5 columns):\n",
      " #   Column   Non-Null Count  Dtype \n",
      "---  ------   --------------  ----- \n",
      " 0   name     10 non-null     object\n",
      " 1   age      10 non-null     int64 \n",
      " 2   address  10 non-null     object\n",
      " 3   active   10 non-null     bool  \n",
      " 4   job      10 non-null     object\n",
      "dtypes: bool(1), int64(1), object(3)\n",
      "memory usage: 410.0+ bytes\n"
     ]
    }
   ],
   "source": [
    "df.info()"
   ]
  }
 ],
 "metadata": {
  "kernelspec": {
   "display_name": "Python 3",
   "language": "python",
   "name": "python3"
  },
  "language_info": {
   "codemirror_mode": {
    "name": "ipython",
    "version": 3
   },
   "file_extension": ".py",
   "mimetype": "text/x-python",
   "name": "python",
   "nbconvert_exporter": "python",
   "pygments_lexer": "ipython3",
   "version": "3.8.10"
  }
 },
 "nbformat": 4,
 "nbformat_minor": 2
}
